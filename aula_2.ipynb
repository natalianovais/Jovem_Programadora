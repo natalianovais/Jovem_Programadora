{
  "nbformat": 4,
  "nbformat_minor": 0,
  "metadata": {
    "colab": {
      "provenance": []
    },
    "kernelspec": {
      "name": "python3",
      "display_name": "Python 3"
    },
    "language_info": {
      "name": "python"
    }
  },
  "cells": [
    {
      "cell_type": "code",
      "execution_count": null,
      "metadata": {
        "colab": {
          "base_uri": "https://localhost:8080/"
        },
        "id": "5he3Fpz248JL",
        "outputId": "cff80203-e63d-4f64-ba57-97974b0cb3e6"
      },
      "outputs": [
        {
          "output_type": "stream",
          "name": "stdout",
          "text": [
            "<class 'int'>\n",
            "<class 'int'>\n"
          ]
        }
      ],
      "source": [
        "## tipo inteiro\n",
        "#int \n",
        "idade = 18\n",
        "ano = 2005\n",
        "print(type(idade))\n",
        "print(type(ano))"
      ]
    },
    {
      "cell_type": "code",
      "source": [
        "# numero racional\n",
        "altura = 1.80\n",
        "peso = 73.55\n",
        "print(type(peso))\n",
        "print(type(altura))"
      ],
      "metadata": {
        "colab": {
          "base_uri": "https://localhost:8080/"
        },
        "id": "sgUjkSq352vM",
        "outputId": "c3c52b05-1a05-48e4-b26e-e6b36e8b81f7"
      },
      "execution_count": null,
      "outputs": [
        {
          "output_type": "stream",
          "name": "stdout",
          "text": [
            "<class 'float'>\n",
            "<class 'float'>\n"
          ]
        }
      ]
    },
    {
      "cell_type": "code",
      "source": [
        "## numero complexo\n",
        "a = 5+2j\n",
        "b = 20+6j\n",
        "print(type(a))\n",
        "print(type(peso))\n",
        "print(complex(2, 5))"
      ],
      "metadata": {
        "colab": {
          "base_uri": "https://localhost:8080/"
        },
        "id": "-VoJXjCg6tba",
        "outputId": "047d5638-1061-4b36-8159-b051cadc483e"
      },
      "execution_count": null,
      "outputs": [
        {
          "output_type": "stream",
          "name": "stdout",
          "text": [
            "<class 'complex'>\n",
            "<class 'complex'>\n",
            "(2+5j)\n"
          ]
        }
      ]
    },
    {
      "cell_type": "code",
      "source": [
        "# strig (str)\n",
        "nome = 'guilherme'\n",
        "profissao = 'engenheiro de software'\n",
        "print(type(profissao))\n",
        "print(type(nome))"
      ],
      "metadata": {
        "colab": {
          "base_uri": "https://localhost:8080/"
        },
        "id": "7jv0TAIr7sLd",
        "outputId": "83ef08c2-a6c4-4ac8-aec3-7caf228de4fe"
      },
      "execution_count": null,
      "outputs": [
        {
          "output_type": "stream",
          "name": "stdout",
          "text": [
            "<class 'str'>\n",
            "<class 'str'>\n"
          ]
        }
      ]
    },
    {
      "cell_type": "code",
      "source": [
        "# boolean\n",
        "fim_de_semana = True\n",
        "feriado = False\n",
        "print(type(fim_de_semana))\n",
        "print(type(feriado))"
      ],
      "metadata": {
        "colab": {
          "base_uri": "https://localhost:8080/"
        },
        "id": "wERcxOBL8fyT",
        "outputId": "7eda58e1-db65-4bd0-a798-9cb599c749d9"
      },
      "execution_count": null,
      "outputs": [
        {
          "output_type": "stream",
          "name": "stdout",
          "text": [
            "<class 'bool'>\n",
            "<class 'bool'>\n"
          ]
        }
      ]
    },
    {
      "cell_type": "code",
      "source": [
        "# listas\n",
        "aluno = ['amanda', 'ana', 'bruno', 'joao']\n",
        "notas = [10, 8, 7.8, 8.0]\n",
        "print(type(aluno))\n",
        "print(type(notas))"
      ],
      "metadata": {
        "colab": {
          "base_uri": "https://localhost:8080/"
        },
        "id": "0J7P_QD09GX7",
        "outputId": "a93615f7-6bbf-4c5c-8354-0083c89a1459"
      },
      "execution_count": null,
      "outputs": [
        {
          "output_type": "stream",
          "name": "stdout",
          "text": [
            "<class 'list'>\n",
            "<class 'list'>\n"
          ]
        }
      ]
    },
    {
      "cell_type": "code",
      "source": [
        "# tuplas\n",
        "valores = (90, 79, 54, 32, 21)\n",
        "pontos = (100, 94.05, 86.8, 62)\n",
        "print(type(valores))\n",
        "print(type(pontos))"
      ],
      "metadata": {
        "colab": {
          "base_uri": "https://localhost:8080/"
        },
        "id": "HL0qwk89-Dqb",
        "outputId": "2bef5295-c34e-46f3-cfc3-32d687897edb"
      },
      "execution_count": null,
      "outputs": [
        {
          "output_type": "stream",
          "name": "stdout",
          "text": [
            "<class 'tuple'>\n",
            "<class 'tuple'>\n"
          ]
        }
      ]
    },
    {
      "cell_type": "code",
      "source": [
        "# convertendo numeros\n",
        "# decimal (flot) para string(str)\n",
        "# antes da conversao\n",
        "altura = 1.80\n",
        "print(type(altura))\n",
        "#conversao do tipo\n",
        "altura = str(altura)\n",
        "# depois da conversao\n",
        "type(altura)\n",
        "print(altura)"
      ],
      "metadata": {
        "colab": {
          "base_uri": "https://localhost:8080/"
        },
        "id": "iZeLc_MT-1ik",
        "outputId": "e691f866-2fdd-48ca-883c-cf0c9bed6891"
      },
      "execution_count": null,
      "outputs": [
        {
          "output_type": "stream",
          "name": "stdout",
          "text": [
            "<class 'float'>\n",
            "1.8\n"
          ]
        }
      ]
    },
    {
      "cell_type": "code",
      "source": [
        "# inteiro para decimal\n",
        "# antes da conversao\n",
        "idade = 18\n",
        "print(type(idade))\n",
        "# conversao do tipo \n",
        "idade = float(idade)\n",
        "#depois da conversao \n",
        "print(type(idade))\n",
        "print(idade)"
      ],
      "metadata": {
        "colab": {
          "base_uri": "https://localhost:8080/"
        },
        "id": "pukcpk6h-1qD",
        "outputId": "f5683218-4f48-4fe0-e980-025e0280588a"
      },
      "execution_count": null,
      "outputs": [
        {
          "output_type": "stream",
          "name": "stdout",
          "text": [
            "<class 'int'>\n",
            "<class 'float'>\n",
            "18.0\n"
          ]
        }
      ]
    },
    {
      "cell_type": "code",
      "source": [
        "#booleano (bool) para inteiro (int)\n",
        "#antes da conversao \n",
        "fim_de_semana = True\n",
        "print(type(fim_de_semana))\n",
        "#conversao do tipo\n",
        "fim_de_semana = int(fim_de_semana)\n",
        "# depois da conversao \n",
        "print(type(fim_de_semana))\n",
        "print(fim_de_semana)"
      ],
      "metadata": {
        "colab": {
          "base_uri": "https://localhost:8080/"
        },
        "id": "xTq2zZhAGPm8",
        "outputId": "75dc221e-e92d-490c-ecc4-e032c35c52c9"
      },
      "execution_count": null,
      "outputs": [
        {
          "output_type": "stream",
          "name": "stdout",
          "text": [
            "<class 'bool'>\n",
            "<class 'int'>\n",
            "1\n"
          ]
        }
      ]
    },
    {
      "cell_type": "code",
      "source": [
        "#dicionario em python\n",
        "altura = {'amanda': 1.65, 'ana': 1.60, 'joao': 1.70}\n",
        "peso = {'amanda':60, 'ana': 50, 'joao': 68}\n",
        "print(type(altura))\n",
        "print(type(peso))"
      ],
      "metadata": {
        "colab": {
          "base_uri": "https://localhost:8080/"
        },
        "id": "a10b-gu0HN5k",
        "outputId": "e8ee42a9-7ea0-43e5-ef31-0694939e1be0"
      },
      "execution_count": null,
      "outputs": [
        {
          "output_type": "stream",
          "name": "stdout",
          "text": [
            "<class 'dict'>\n",
            "<class 'dict'>\n"
          ]
        }
      ]
    }
  ]
}