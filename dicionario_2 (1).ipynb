{
  "nbformat": 4,
  "nbformat_minor": 0,
  "metadata": {
    "colab": {
      "provenance": []
    },
    "kernelspec": {
      "name": "python3",
      "display_name": "Python 3"
    },
    "language_info": {
      "name": "python"
    }
  },
  "cells": [
    {
      "cell_type": "code",
      "execution_count": null,
      "metadata": {
        "colab": {
          "base_uri": "https://localhost:8080/"
        },
        "id": "vfP5iw9-JLCY",
        "outputId": "a3fd2ae1-f859-4f58-c523-49774fb16402"
      },
      "outputs": [
        {
          "output_type": "stream",
          "name": "stdout",
          "text": [
            "dicionari vazio {}\n",
            "exmplo de dicionario {'bra': 'brasil', 'eua': 'estados unidos', 'fra': 'franca'}\n",
            "tipo de um dicionario <class 'dict'>\n"
          ]
        }
      ],
      "source": [
        "# o comando dicionario_vazio = dict() possui o mesmo efeito do comando abaixo \n",
        "dicionario_vazio = {}\n",
        "print('dicionari vazio', dicionario_vazio)\n",
        "paises = {'bra': 'brasil', 'eua': 'estados unidos', 'fra': 'franca'}\n",
        "print('exmplo de dicionario', paises)\n",
        "print('tipo de um dicionario', type(paises))\n",
        "\n"
      ]
    },
    {
      "cell_type": "code",
      "source": [
        "# modificando um dicionario \n",
        "paises['bra'] = 'brazil'\n",
        "paises['fra'] = 'france'\n",
        "#adicionando um elemento\n",
        "paises['esp'] = 'espanha'\n",
        "print('dicionario modificada', paises)"
      ],
      "metadata": {
        "colab": {
          "base_uri": "https://localhost:8080/"
        },
        "id": "f0_khIT5LMFU",
        "outputId": "83fec9b9-5140-4645-f535-4d3176ecf1bd"
      },
      "execution_count": null,
      "outputs": [
        {
          "output_type": "stream",
          "name": "stdout",
          "text": [
            "dicionario modificada {'bra': 'brazil', 'eua': 'estados unidos', 'fra': 'france', 'esp': 'espanha'}\n"
          ]
        }
      ]
    },
    {
      "cell_type": "code",
      "source": [
        "#pesquisa no dicionario\n",
        "print('eua', paises['eua'])"
      ],
      "metadata": {
        "colab": {
          "base_uri": "https://localhost:8080/"
        },
        "id": "jswpGxLyMKrC",
        "outputId": "8ee8fe68-fc5a-4088-f86f-12df5bddfa36"
      },
      "execution_count": null,
      "outputs": [
        {
          "output_type": "stream",
          "name": "stdout",
          "text": [
            "eua estados unidos\n"
          ]
        }
      ]
    },
    {
      "cell_type": "code",
      "source": [
        "paises = {'bra': 'brasil', 'eua': 'estados unidos', 'fra': 'franca','esp': 'espanha'}\n",
        "for chave, valor in paises.items():\n",
        "  print(chave + ' =' + str(valor))"
      ],
      "metadata": {
        "colab": {
          "base_uri": "https://localhost:8080/"
        },
        "id": "oz0dHu3rOONP",
        "outputId": "eaf99840-a9f9-4963-ec4c-db521f72b851"
      },
      "execution_count": null,
      "outputs": [
        {
          "output_type": "stream",
          "name": "stdout",
          "text": [
            "bra =brasil\n",
            "eua =estados unidos\n",
            "fra =franca\n",
            "esp =espanha\n"
          ]
        }
      ]
    },
    {
      "cell_type": "code",
      "source": [
        "# exemplo de um dirct com dados de client de uma empresa\n",
        "dados_cliente = {\n",
        "    'nome' : 'renan',\n",
        "    'endereco': 'rua cruzeiro do sul',\n",
        "    'telefone' : '982503645'\n",
        "}\n",
        "print(dados_cliente['nome']) # renan"
      ],
      "metadata": {
        "colab": {
          "base_uri": "https://localhost:8080/"
        },
        "id": "TIcLQFxDQHRp",
        "outputId": "ffed8a0a-92ca-485c-b8ed-e8eec8359690"
      },
      "execution_count": null,
      "outputs": [
        {
          "output_type": "stream",
          "name": "stdout",
          "text": [
            "renan\n"
          ]
        }
      ]
    },
    {
      "cell_type": "code",
      "source": [
        "dados_cliente = {\n",
        "    'nome' : 'renan',\n",
        "    'endereco': 'rua cruzeiro do sul',\n",
        "    'telefone' : '982503645'\n",
        "}\n",
        "print(dados_cliente['endereco']) "
      ],
      "metadata": {
        "colab": {
          "base_uri": "https://localhost:8080/"
        },
        "id": "PZnOBrDQRBJy",
        "outputId": "04e099d9-1d36-4335-825b-6b5e688c5220"
      },
      "execution_count": null,
      "outputs": [
        {
          "output_type": "stream",
          "name": "stdout",
          "text": [
            "rua cruzeiro do sul\n"
          ]
        }
      ]
    },
    {
      "cell_type": "code",
      "source": [
        "dados_cliente = {\n",
        "    'nome' : 'renan',\n",
        "    'endereco': 'rua cruzeiro do sul',\n",
        "    'telefone' : '982503645'\n",
        "}print(dados_cliente\n",
        "['telefone']) "
      ],
      "metadata": {
        "colab": {
          "base_uri": "https://localhost:8080/"
        },
        "id": "lQfb_iVlRNeC",
        "outputId": "5b762a56-45bf-47f2-81a2-0f0a59b062ea"
      },
      "execution_count": null,
      "outputs": [
        {
          "output_type": "stream",
          "name": "stdout",
          "text": [
            "982503645\n"
          ]
        }
      ]
    },
    {
      "cell_type": "code",
      "source": [
        "dados_cliente = {\n",
        "    'nome' : 'renan',\n",
        "    'endereco': 'rua cruzeiro do sul',\n",
        "    'telefone' : '982503645'\n",
        "}\n",
        "print(dados_cliente)\n"
      ],
      "metadata": {
        "colab": {
          "base_uri": "https://localhost:8080/"
        },
        "id": "Bd3j9F_OTZbr",
        "outputId": "1c177732-3acf-4a7a-aa57-7868209dbbe9"
      },
      "execution_count": null,
      "outputs": [
        {
          "output_type": "stream",
          "name": "stdout",
          "text": [
            "{'nome': 'renan', 'endereco': 'rua cruzeiro do sul', 'telefone': '982503645'}\n"
          ]
        }
      ]
    },
    {
      "cell_type": "code",
      "source": [
        "dados_cliente = {\n",
        "    'nome' : 'renan',\n",
        "    'endereco': 'rua cruzeiro do sul',\n",
        "    'telefone' : '982503645',\n",
        "    'altura' : '1.77'\n",
        "}\n",
        "print(dados_cliente)\n",
        "dados_cliente['altura'] \n",
        "print(dados_cliente)\n",
        "dados_cliente['peso'] = 80\n",
        "print(dados_cliente)\n",
        "      "
      ],
      "metadata": {
        "id": "wnKW_5ObVqMb",
        "colab": {
          "base_uri": "https://localhost:8080/"
        },
        "outputId": "6915d525-8575-4c5f-cdf3-a050db9dd09b"
      },
      "execution_count": null,
      "outputs": [
        {
          "output_type": "stream",
          "name": "stdout",
          "text": [
            "{'nome': 'renan', 'endereco': 'rua cruzeiro do sul', 'telefone': '982503645', 'altura': '1.77'}\n",
            "{'nome': 'renan', 'endereco': 'rua cruzeiro do sul', 'telefone': '982503645', 'altura': '1.77'}\n",
            "{'nome': 'renan', 'endereco': 'rua cruzeiro do sul', 'telefone': '982503645', 'altura': '1.77', 'peso': 80}\n"
          ]
        }
      ]
    },
    {
      "cell_type": "code",
      "source": [
        "dados_cliente = {\n",
        "    'nome' : 'renan',\n",
        "    'telefone' : '982503645'\n",
        "}\n",
        "print(dados_cliente)\n",
        "dados_cliente.pop('telefone', None)\n",
        "print(dados_cliente)\n",
        "dados_cliente.pop('endereco', None)"
      ],
      "metadata": {
        "colab": {
          "base_uri": "https://localhost:8080/"
        },
        "id": "8VwMpKxC9pIe",
        "outputId": "3a7adbcc-67cd-415a-94db-084dc1ceb2bd"
      },
      "execution_count": null,
      "outputs": [
        {
          "output_type": "stream",
          "name": "stdout",
          "text": [
            "{'nome': 'renan', 'telefone': '982503645'}\n",
            "{'nome': 'renan'}\n"
          ]
        }
      ]
    },
    {
      "cell_type": "code",
      "source": [
        "materias_motivos = {\n",
        "    'historia': 'julia',\n",
        "     'm.p': 'tyago'\n",
        "}\n",
        "print(materias_motivos)\n",
        "materias_motivos['historia']\n",
        "print(materias_motivos)\n",
        "materias_motivos['m.p']\n",
        "print(materias_motivos)"
      ],
      "metadata": {
        "colab": {
          "base_uri": "https://localhost:8080/"
        },
        "id": "yUEs2s8X-3Dm",
        "outputId": "5836f818-a858-48c6-f8da-5e57d1bf239b"
      },
      "execution_count": null,
      "outputs": [
        {
          "output_type": "stream",
          "name": "stdout",
          "text": [
            "{'historia': 'julia', 'm.p': 'tyago'}\n",
            "{'historia': 'julia', 'm.p': 'tyago'}\n",
            "{'historia': 'julia', 'm.p': 'tyago'}\n"
          ]
        }
      ]
    },
    {
      "cell_type": "code",
      "source": [],
      "metadata": {
        "id": "_rEpDMxBEG9v"
      },
      "execution_count": null,
      "outputs": []
    }
  ]
}