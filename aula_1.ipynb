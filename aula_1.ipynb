{
  "nbformat": 4,
  "nbformat_minor": 0,
  "metadata": {
    "colab": {
      "provenance": []
    },
    "kernelspec": {
      "name": "python3",
      "display_name": "Python 3"
    },
    "language_info": {
      "name": "python"
    }
  },
  "cells": [
    {
      "cell_type": "code",
      "execution_count": null,
      "metadata": {
        "colab": {
          "base_uri": "https://localhost:8080/"
        },
        "id": "4ltt3Z8WuL6m",
        "outputId": "70f4c33a-f598-4200-d825-abb25d596aac"
      },
      "outputs": [
        {
          "output_type": "stream",
          "name": "stdout",
          "text": [
            "hello world\n"
          ]
        }
      ],
      "source": [
        "print(\"hello world\")"
      ]
    },
    {
      "cell_type": "code",
      "source": [
        "## programa 2\n",
        "a = \"9\"\n",
        "b = \"10\"\n",
        "resultado = a < b \n",
        "print (resultado)"
      ],
      "metadata": {
        "colab": {
          "base_uri": "https://localhost:8080/"
        },
        "id": "BRMleEtou1g5",
        "outputId": "efdafabc-66b2-4435-c254-4c6c7c096a87"
      },
      "execution_count": null,
      "outputs": [
        {
          "output_type": "stream",
          "name": "stdout",
          "text": [
            "False\n"
          ]
        }
      ]
    },
    {
      "cell_type": "code",
      "source": [
        "## programa 3 \n",
        "a = 100\n",
        "b = 20\n",
        "resultado = a * b\n",
        "print(resultado)"
      ],
      "metadata": {
        "colab": {
          "base_uri": "https://localhost:8080/"
        },
        "id": "CwY5kPNmxOQ_",
        "outputId": "a5b3ade4-b6f5-4846-bdf4-f836ae419ed6"
      },
      "execution_count": null,
      "outputs": [
        {
          "output_type": "stream",
          "name": "stdout",
          "text": [
            "2000\n"
          ]
        }
      ]
    },
    {
      "cell_type": "code",
      "source": [
        "## programa 4 \n",
        "precos = {\n",
        "    \"celular\": 1500,\n",
        "    \"computador\": 5000,\n",
        "    \"tablet\": 2000,\n",
        "}\n",
        "\n",
        "for item in precos:\n",
        "  print(item)\n"
      ],
      "metadata": {
        "colab": {
          "base_uri": "https://localhost:8080/"
        },
        "id": "ztA3H6SWxvi2",
        "outputId": "d8662126-cee3-40fa-b757-e3ff8866a8cc"
      },
      "execution_count": null,
      "outputs": [
        {
          "output_type": "stream",
          "name": "stdout",
          "text": [
            "celular\n",
            "computador\n",
            "tablet\n"
          ]
        }
      ]
    },
    {
      "cell_type": "code",
      "source": [
        "## programa 4 \n",
        "precos = {\n",
        "    \"celular\": 1500,\n",
        "    \"computador\": 5000,\n",
        "    \"tablet\": 2000,\n",
        "}\n",
        "\n",
        "for item in precos:\n",
        "  print(precos[item])\n"
      ],
      "metadata": {
        "colab": {
          "base_uri": "https://localhost:8080/"
        },
        "id": "6wA1LCQyzW_u",
        "outputId": "8b62bc2b-c5ad-4dd5-e02e-089ba7a8cd64"
      },
      "execution_count": null,
      "outputs": [
        {
          "output_type": "stream",
          "name": "stdout",
          "text": [
            "1500\n",
            "5000\n",
            "2000\n"
          ]
        }
      ]
    },
    {
      "cell_type": "code",
      "source": [
        "## calculadora adiçao\n",
        "number_1 = int(input('digite o primeiro numero: ' ))\n",
        "number_2 = int(input('digete  o segundo numero: ' ))\n",
        "print(number_1 + number_2)\n"
      ],
      "metadata": {
        "id": "OfV18Ie0z7r8",
        "colab": {
          "base_uri": "https://localhost:8080/"
        },
        "outputId": "19a7d161-56a5-4598-d2c7-7cfde869b055"
      },
      "execution_count": null,
      "outputs": [
        {
          "output_type": "stream",
          "name": "stdout",
          "text": [
            "digite o primeiro numero: 25\n",
            "digete  o segundo numero: 33\n",
            "58\n"
          ]
        }
      ]
    },
    {
      "cell_type": "code",
      "source": [
        "## calculadora adiçao\n",
        "number_1 = int(input('digite o primeiro numero: ' ))\n",
        "number_2 = int(input('digete  o segundo numero: ' ))\n",
        "print(number_1 * number_2)\n"
      ],
      "metadata": {
        "colab": {
          "base_uri": "https://localhost:8080/"
        },
        "id": "lvSYqLrx2p_T",
        "outputId": "7f6bcfcd-5e2c-405f-d547-e5f798f10f41"
      },
      "execution_count": null,
      "outputs": [
        {
          "output_type": "stream",
          "name": "stdout",
          "text": [
            "digite o primeiro numero: 66\n",
            "digete  o segundo numero: 120\n",
            "7920\n"
          ]
        }
      ]
    },
    {
      "cell_type": "code",
      "source": [
        "## calculadora adiçao\n",
        "number_1 = int(input('digite o primeiro numero: ' ))\n",
        "number_2 = int(input('digete  o segundo numero: ' ))\n",
        "print(number_1 / number_2)"
      ],
      "metadata": {
        "colab": {
          "base_uri": "https://localhost:8080/"
        },
        "id": "lvtAxwX427Sy",
        "outputId": "8a828f33-0830-45fe-9806-c6a30c2be55b"
      },
      "execution_count": null,
      "outputs": [
        {
          "output_type": "stream",
          "name": "stdout",
          "text": [
            "digite o primeiro numero: 2\n",
            "digete  o segundo numero: 16\n",
            "0.125\n"
          ]
        }
      ]
    },
    {
      "cell_type": "code",
      "source": [
        "# aplicando conjunto (sets) em python\n",
        "planeta_anao = {'plutao', 'ceres', 'eris', 'haumea', 'makemake'}\n",
        "planeta_ss = {'saturno','jupter', 'venus'}\n",
        "print(planeta_anao)#"
      ],
      "metadata": {
        "colab": {
          "base_uri": "https://localhost:8080/"
        },
        "id": "IrgrlJrV3EYq",
        "outputId": "0e3ec633-b5a8-40c3-db98-3a862adcf45f"
      },
      "execution_count": null,
      "outputs": [
        {
          "output_type": "stream",
          "name": "stdout",
          "text": [
            "{'haumea', 'eris', 'plutao', 'ceres', 'makemake'}\n"
          ]
        }
      ]
    },
    {
      "cell_type": "code",
      "source": [
        "# aplicando conjunto (sets) em python\n",
        "planeta_rebeca = {'plutao', 'ceres', 'eris', 'rebeca', 'makemake'}\n",
        "planeta_ss = {'saturno','jupter', 'venus'}\n",
        "print(planeta_rebeca)"
      ],
      "metadata": {
        "colab": {
          "base_uri": "https://localhost:8080/"
        },
        "id": "freWVFZZ4ZB7",
        "outputId": "78041f30-b9a2-4b90-dec5-4f181721513d"
      },
      "execution_count": null,
      "outputs": [
        {
          "output_type": "stream",
          "name": "stdout",
          "text": [
            "{'eris', 'plutao', 'ceres', 'rebeca', 'makemake'}\n"
          ]
        }
      ]
    },
    {
      "cell_type": "code",
      "source": [
        "# aplicando conjunto (sets) em python\n",
        "planeta_rebeca = {'maria', 'lidia', 'livia', 'rebeca', 'duda'}\n",
        "planeta_ss = {'saturno','jupter', 'venus'}\n",
        "print(planeta_rebeca)"
      ],
      "metadata": {
        "colab": {
          "base_uri": "https://localhost:8080/"
        },
        "id": "jrycSzSw40ra",
        "outputId": "803201d6-b4db-48ba-c9d9-324ff45540f4"
      },
      "execution_count": null,
      "outputs": [
        {
          "output_type": "stream",
          "name": "stdout",
          "text": [
            "{'lidia', 'rebeca', 'maria', 'livia', 'duda'}\n"
          ]
        }
      ]
    },
    {
      "cell_type": "code",
      "source": [
        "# exemplo de criaçao de sets com elementos repetidos (distintos)\n",
        "numeros = [1, 2, 2, 3, 3, 3]\n",
        "numeros_distintos = set()\n",
        "for num in numeros:\n",
        "  numeros_distintos.add(num)\n",
        "print(\"numeros\", numeros)\n",
        "print(\"numeros distintos\", numeros_distintos)"
      ],
      "metadata": {
        "colab": {
          "base_uri": "https://localhost:8080/"
        },
        "id": "6zA892EV8fh6",
        "outputId": "6f740e74-2d26-4fbb-e38a-0c3616056783"
      },
      "execution_count": null,
      "outputs": [
        {
          "output_type": "stream",
          "name": "stdout",
          "text": [
            "numeros [1, 2, 2, 3, 3, 3]\n",
            "numeros distintos {1, 2, 3}\n"
          ]
        }
      ]
    },
    {
      "cell_type": "code",
      "source": [
        "# exemplo de criaçao de sets com elementos repetidos (distintos)\n",
        "numeros = [1, 2, 2, 4, 4]\n",
        "numeros_distintos = set()\n",
        "for num in numeros:\n",
        "  numeros_distintos.add(num)\n",
        "print(\"numeros\", numeros)\n",
        "print(\"numeros distintos\", numeros_distintos)"
      ],
      "metadata": {
        "colab": {
          "base_uri": "https://localhost:8080/"
        },
        "id": "jhrhljmc-Xw0",
        "outputId": "d67b492f-13ee-45fa-88f3-bab3f5dd3b4d"
      },
      "execution_count": null,
      "outputs": [
        {
          "output_type": "stream",
          "name": "stdout",
          "text": [
            "numeros [1, 2, 2, 4, 4]\n",
            "numeros distintos {1, 2, 4}\n"
          ]
        }
      ]
    },
    {
      "cell_type": "code",
      "source": [
        "## quantidade de elementos dos sets\n",
        "planeta_anao = {'}\n",
        "print(planeta_anao)\n",
        "qtde_planetas = len(planeta_anao)\n",
        "print(qtde_planetas)"
      ],
      "metadata": {
        "colab": {
          "base_uri": "https://localhost:8080/"
        },
        "id": "iLgBPQKr_F4b",
        "outputId": "0bc96c21-b179-4683-8bdf-504094cc9b7d"
      },
      "execution_count": null,
      "outputs": [
        {
          "output_type": "stream",
          "name": "stdout",
          "text": [
            "{'haumea', 'eris', 'plutao', 'ceres', 'makemake'}\n",
            "5\n"
          ]
        }
      ]
    },
    {
      "cell_type": "code",
      "source": [
        "## comparando sets\n",
        "planetas1 = {'terra', 'venus', 'mercurio', 'marte'}\n",
        "planetas2 = {'terra', 'venus', 'mercurio', 'marte', 'saturno'}\n",
        "print(planetas1 == planetas2)\n",
        "print(planetas1 != planetas2)"
      ],
      "metadata": {
        "colab": {
          "base_uri": "https://localhost:8080/"
        },
        "id": "URIrbKqYAH5T",
        "outputId": "1d54d334-05a8-4a5c-f453-19f02c40f73b"
      },
      "execution_count": null,
      "outputs": [
        {
          "output_type": "stream",
          "name": "stdout",
          "text": [
            "False\n",
            "True\n"
          ]
        }
      ]
    },
    {
      "cell_type": "code",
      "source": [
        "## uniao de sets\n",
        "planetas1 = {'terra', 'venus', 'mercurio', 'marte'}\n",
        "print(planetas1.union(planetas2))"
      ],
      "metadata": {
        "colab": {
          "base_uri": "https://localhost:8080/"
        },
        "id": "3uBYSEmdB0rO",
        "outputId": "1e029701-83da-494b-f9bd-90de18df2ad3"
      },
      "execution_count": null,
      "outputs": [
        {
          "output_type": "stream",
          "name": "stdout",
          "text": [
            "{'saturno', 'netuno', 'venus', 'terra', 'mercurio', 'marte'}\n",
            "{'saturno', 'netuno', 'venus', 'terra', 'mercurio', 'marte'}\n"
          ]
        }
      ]
    },
    {
      "cell_type": "code",
      "source": [
        "## imterceçao de conjuntos\n",
        "print('ola natalia')"
      ],
      "metadata": {
        "colab": {
          "base_uri": "https://localhost:8080/"
        },
        "id": "y3YoARVPDMtF",
        "outputId": "67c10540-d548-4573-f739-2f3bcb5e0749"
      },
      "execution_count": null,
      "outputs": [
        {
          "output_type": "stream",
          "name": "stdout",
          "text": [
            "ola natalia\n"
          ]
        }
      ]
    },
    {
      "cell_type": "code",
      "source": [
        "## interceçao de conjuntos\n",
        "planetas1 = {'terra', 'venus', 'mercurio', 'marte'}\n",
        "planetas2 = {'terra', 'jupiter', 'urano', 'saturno', 'marte'}\n",
        "print(planetas1 & planetas2)\n",
        "print(planetas1.intersection(planetas2))"
      ],
      "metadata": {
        "colab": {
          "base_uri": "https://localhost:8080/"
        },
        "id": "b2emPF59Dsz1",
        "outputId": "4c19393d-6529-4e2e-dcab-8cb03515d16f"
      },
      "execution_count": null,
      "outputs": [
        {
          "output_type": "stream",
          "name": "stdout",
          "text": [
            "{'terra', 'marte'}\n",
            "{'terra', 'marte'}\n"
          ]
        }
      ]
    },
    {
      "cell_type": "code",
      "source": [
        "## diferença de conjuntos\n",
        "planetas1 = {'terra', 'venus', 'mercurio', 'marte','netuno'}\n",
        "planetas2 = {'terra', 'jupiter', 'urano', 'saturno', 'marte'}\n",
        "print(planetas1 - planetas2)\n",
        "print(planetas1.difference(planetas2))"
      ],
      "metadata": {
        "colab": {
          "base_uri": "https://localhost:8080/"
        },
        "id": "6Din2yEwE79D",
        "outputId": "fb51c7b0-e602-4ff1-a8e6-8d6a4c816ad5"
      },
      "execution_count": null,
      "outputs": [
        {
          "output_type": "stream",
          "name": "stdout",
          "text": [
            "{'mercurio', 'netuno', 'venus'}\n",
            "{'mercurio', 'netuno', 'venus'}\n"
          ]
        }
      ]
    },
    {
      "cell_type": "code",
      "source": [
        "## adicionar e remover elementos em um conjunto \n",
        "planetas = {'mercurio', 'venus', 'terra', 'marte'}\n",
        "planetas.add('jupiter')\n",
        "planetas.add('marte')\n",
        "print(planetas, end='')\n",
        "planetas.remove('terra')\n",
        "print(planetas, end='')\n",
        "planetas.discard('terra')\n",
        "print(planetas, end='')"
      ],
      "metadata": {
        "colab": {
          "base_uri": "https://localhost:8080/"
        },
        "id": "7D-T64uhFn-S",
        "outputId": "31d7a489-537f-43b3-ea6c-09134983258b"
      },
      "execution_count": null,
      "outputs": [
        {
          "output_type": "stream",
          "name": "stdout",
          "text": [
            "{'jupiter', 'venus', 'terra', 'mercurio', 'marte'}{'jupiter', 'venus', 'mercurio', 'marte'}{'jupiter', 'venus', 'mercurio', 'marte'}"
          ]
        }
      ]
    },
    {
      "cell_type": "code",
      "source": [
        "print('ola')"
      ],
      "metadata": {
        "colab": {
          "base_uri": "https://localhost:8080/"
        },
        "id": "wJ-eFI3cHEDw",
        "outputId": "edd30654-76cd-43db-a5bc-cc1c026fa0b3"
      },
      "execution_count": null,
      "outputs": [
        {
          "output_type": "stream",
          "name": "stdout",
          "text": [
            "ola\n"
          ]
        }
      ]
    },
    {
      "cell_type": "code",
      "source": [
        "## pertinencia\n",
        "a = {1, 2, 3, 4}\n",
        "b = {3, 4, 5, 6}\n",
        "c = {2, 4, 6, 8}\n",
        "2 in b"
      ],
      "metadata": {
        "colab": {
          "base_uri": "https://localhost:8080/"
        },
        "id": "y0NdjVH9HbFi",
        "outputId": "8cf8f304-70e5-463c-a23f-3045ae6187be"
      },
      "execution_count": null,
      "outputs": [
        {
          "output_type": "execute_result",
          "data": {
            "text/plain": [
              "False"
            ]
          },
          "metadata": {},
          "execution_count": 59
        }
      ]
    },
    {
      "cell_type": "code",
      "source": [
        "## inclusao\n",
        "a = {1, 2, 3, 4}\n",
        "b = {3, 5}\n",
        "c = {2, 3}\n",
        "c.issubset(a)"
      ],
      "metadata": {
        "colab": {
          "base_uri": "https://localhost:8080/"
        },
        "id": "nWv_j50qIhpk",
        "outputId": "d6ed214d-458b-47fb-b019-a978604b9e8c"
      },
      "execution_count": null,
      "outputs": [
        {
          "output_type": "execute_result",
          "data": {
            "text/plain": [
              "True"
            ]
          },
          "metadata": {},
          "execution_count": 2
        }
      ]
    },
    {
      "cell_type": "code",
      "source": [
        "## programa final da aula de hoje\n",
        "print('goodbye, world!')"
      ],
      "metadata": {
        "colab": {
          "base_uri": "https://localhost:8080/"
        },
        "id": "fj9ATgQi35ad",
        "outputId": "2aa12dc6-9f6e-49ee-84bc-4606e18e0e03"
      },
      "execution_count": null,
      "outputs": [
        {
          "output_type": "stream",
          "name": "stdout",
          "text": [
            "goodbye, world!\n"
          ]
        }
      ]
    }
  ]
}