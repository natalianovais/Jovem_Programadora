{
  "nbformat": 4,
  "nbformat_minor": 0,
  "metadata": {
    "colab": {
      "provenance": []
    },
    "kernelspec": {
      "name": "python3",
      "display_name": "Python 3"
    },
    "language_info": {
      "name": "python"
    }
  },
  "cells": [
    {
      "cell_type": "code",
      "execution_count": null,
      "metadata": {
        "colab": {
          "base_uri": "https://localhost:8080/"
        },
        "id": "GiZO7Wq1HKX3",
        "outputId": "851614eb-04ee-4586-8493-56f16ddbc792"
      },
      "outputs": [
        {
          "output_type": "stream",
          "name": "stdout",
          "text": [
            "['domingo', 'segunda', 'terca', 'quarta', 'quinta', 'sexta', 'sabado']\n"
          ]
        }
      ],
      "source": [
        "# vetores\n",
        "dias = ['domingo', 'segunda', 'terca', 'quarta', 'quinta', 'sexta', 'sabado']\n",
        "print(dias)"
      ]
    },
    {
      "cell_type": "code",
      "source": [
        "a = 'bom dia'\n",
        "b = 'boa tarde'\n",
        "mensagem = [a, b ]\n",
        "print(mensagem)"
      ],
      "metadata": {
        "colab": {
          "base_uri": "https://localhost:8080/"
        },
        "id": "dmqMSEARH8rL",
        "outputId": "68264934-6f3c-4b7e-8fd9-362493de8ae7"
      },
      "execution_count": null,
      "outputs": [
        {
          "output_type": "stream",
          "name": "stdout",
          "text": [
            "['bom dia', 'boa tarde']\n"
          ]
        }
      ]
    },
    {
      "cell_type": "code",
      "source": [
        "mensagens = ['bom dia', 'boa tarde']\n",
        "mensagens.append('boa noite')\n",
        "print(mensagens)"
      ],
      "metadata": {
        "colab": {
          "base_uri": "https://localhost:8080/"
        },
        "id": "1dK97RhzIQqd",
        "outputId": "91ba3e2e-a54e-4f88-86ea-5a8b6468172b"
      },
      "execution_count": null,
      "outputs": [
        {
          "output_type": "stream",
          "name": "stdout",
          "text": [
            "['bom dia', 'boa tarde', 'boa noite']\n"
          ]
        }
      ]
    },
    {
      "cell_type": "code",
      "source": [
        "mensagens = ['bom dia', 'boa tarde', 'boa noite', 'como vai?']\n",
        "mensagens.pop(3)\n",
        "print(mensagens)"
      ],
      "metadata": {
        "colab": {
          "base_uri": "https://localhost:8080/"
        },
        "id": "Y1CkRjFtInYF",
        "outputId": "46106c2d-1b2e-43f9-fd9d-e852d873bb92"
      },
      "execution_count": null,
      "outputs": [
        {
          "output_type": "stream",
          "name": "stdout",
          "text": [
            "['bom dia', 'boa tarde', 'boa noite']\n"
          ]
        }
      ]
    },
    {
      "cell_type": "code",
      "source": [
        "vetor = [1, 2, 3, 4, 5, 6, 7, 8, 9, 10]\n",
        "a = vetor[0]+vetor[8]\n",
        "print(a)\n",
        "b = vetor[9]-vetor[8]\n",
        "print(b)\n",
        "c = vetor[1]*vetor[4]\n",
        "print(c)"
      ],
      "metadata": {
        "colab": {
          "base_uri": "https://localhost:8080/"
        },
        "id": "1pgU2m9pJU1d",
        "outputId": "d13aa1bd-dd92-4adb-be9f-d3c4647fe4cb"
      },
      "execution_count": null,
      "outputs": [
        {
          "output_type": "stream",
          "name": "stdout",
          "text": [
            "10\n",
            "1\n",
            "10\n"
          ]
        }
      ]
    },
    {
      "cell_type": "code",
      "source": [
        "vetor1 = ['bom dia', 'boa tarde', 'boa noite']\n",
        "vetor2 = ['bruno', 'marceo', 'bernardo']\n",
        "vetor3 = ['como vai?', 'que horas sao?', 'vamor programar?']\n",
        "matriz = [vetor1, vetor2, vetor3]\n",
        "print()"
      ],
      "metadata": {
        "id": "ibhq6vo1KeRm"
      },
      "execution_count": null,
      "outputs": []
    },
    {
      "cell_type": "code",
      "source": [
        "vetor1 = ['bom dia', 'boa tarde', 'boa noite']\n",
        "vetor2 = ['bruno', 'marceo', 'bernardo']\n",
        "vetor3 = ['como vai?', 'que horas sao?', 'vamor programar?']\n",
        "matriz = [vetor1, vetor2, vetor3]\n",
        "matriz = []\n",
        "matriz.append(vetor1)\n",
        "matriz.append(vetor2)\n",
        "matriz.append(vetor3)\n",
        "print(matriz)"
      ],
      "metadata": {
        "colab": {
          "base_uri": "https://localhost:8080/"
        },
        "id": "lgJyKtJXRKfe",
        "outputId": "63e8801a-1f16-4917-93e9-5912d048964c"
      },
      "execution_count": null,
      "outputs": [
        {
          "output_type": "stream",
          "name": "stdout",
          "text": [
            "[['bom dia', 'boa tarde', 'boa noite'], ['bruno', 'marceo', 'bernardo'], ['como vai?', 'que horas sao?', 'vamor programar?']]\n"
          ]
        }
      ]
    },
    {
      "cell_type": "code",
      "source": [
        "vetor1 = ['bom dia', 'boa tarde', 'boa noite']\n",
        "vetor2 = ['bruno', 'marceo', 'bernardo']\n",
        "vetor3 = ['como vai?', 'que horas sao?', 'vamor programar?']\n",
        "matriz = [vetor1, vetor2, vetor3]\n",
        "print(matriz[0][0])"
      ],
      "metadata": {
        "colab": {
          "base_uri": "https://localhost:8080/"
        },
        "id": "e95n9_8iRtKU",
        "outputId": "3cc07265-cc83-4f09-b51a-97b6b9386a14"
      },
      "execution_count": null,
      "outputs": [
        {
          "output_type": "stream",
          "name": "stdout",
          "text": [
            "bom dia\n"
          ]
        }
      ]
    },
    {
      "cell_type": "code",
      "source": [
        "vetor1 = ['bom dia', 'boa tarde', 'boa noite']\n",
        "vetor2 = ['bruno', 'marceo', 'bernardo']\n",
        "vetor3 = ['como vai?', 'que horas sao?', 'vamor programar?']\n",
        "matriz = [vetor1, vetor2, vetor3]\n",
        "print(matriz[0])"
      ],
      "metadata": {
        "colab": {
          "base_uri": "https://localhost:8080/"
        },
        "id": "zYaLwmK2Skxu",
        "outputId": "c40de052-8bca-40f6-e729-a009f173c9d0"
      },
      "execution_count": null,
      "outputs": [
        {
          "output_type": "stream",
          "name": "stdout",
          "text": [
            "['bom dia', 'boa tarde', 'boa noite']\n"
          ]
        }
      ]
    },
    {
      "cell_type": "code",
      "source": [
        "vetor1 = ['bom dia', 'boa tarde', 'boa noite']\n",
        "vetor2 = ['bruno', 'marceo', 'bernardo']\n",
        "vetor3 = ['como vai?', 'que horas sao?', 'vamor programar?']\n",
        "matriz = [vetor1, vetor2, vetor3]\n",
        "matriz[0].append('bom final de semana')\n",
        "print(matriz[0])"
      ],
      "metadata": {
        "colab": {
          "base_uri": "https://localhost:8080/"
        },
        "id": "QA-WIp7dTBPd",
        "outputId": "7bd91122-37a7-4365-d46c-da323c495f5a"
      },
      "execution_count": null,
      "outputs": [
        {
          "output_type": "stream",
          "name": "stdout",
          "text": [
            "['bom dia', 'boa tarde', 'boa noite', 'bom final de semana']\n"
          ]
        }
      ]
    },
    {
      "cell_type": "code",
      "source": [
        "vetor1 = ['bom dia', 'boa tarde', 'boa noite']\n",
        "vetor2 = ['bruno', 'marceo', 'bernardo']\n",
        "vetor3 = ['como vai?', 'que horas sao?', 'vamor programar?']\n",
        "matriz = [vetor1, vetor2, vetor3]\n",
        "matriz[1].append('natalia')\n",
        "print(matriz[1])"
      ],
      "metadata": {
        "colab": {
          "base_uri": "https://localhost:8080/"
        },
        "id": "dXNzLrp5TZf8",
        "outputId": "c0242150-d656-4a62-e4a9-62551dd41d08"
      },
      "execution_count": null,
      "outputs": [
        {
          "output_type": "stream",
          "name": "stdout",
          "text": [
            "['bruno', 'marceo', 'bernardo', 'natalia']\n"
          ]
        }
      ]
    },
    {
      "cell_type": "code",
      "source": [
        "vetor1 = ['bom dia', 'boa tarde', 'boa noite']\n",
        "vetor2 = [ 'bruno', 'marceo', 'bernardo']\n",
        "vetor3 = ['como vai?', 'que horas sao?', 'vamor programar?']\n",
        "matriz = [vetor1, vetor2, vetor3]\n",
        "matriz[1].pop(0)\n",
        "print(matriz[1])\n",
        "matriz.pop(2)\n"
      ],
      "metadata": {
        "colab": {
          "base_uri": "https://localhost:8080/"
        },
        "id": "Ca6zZNLZUm5N",
        "outputId": "4736ab19-7ea0-4dae-cd64-d7faf665b633"
      },
      "execution_count": null,
      "outputs": [
        {
          "output_type": "stream",
          "name": "stdout",
          "text": [
            "['marceo', 'bernardo']\n"
          ]
        },
        {
          "output_type": "execute_result",
          "data": {
            "text/plain": [
              "['como vai?', 'que horas sao?', 'vamor programar?']"
            ]
          },
          "metadata": {},
          "execution_count": 29
        }
      ]
    },
    {
      "cell_type": "code",
      "source": [
        "pessoas = []\n",
        "nomes = ['hinata', 'naruto', 'sasuke']\n",
        "sobrenomes = ['hyuuga', 'uzumaki', 'uchiha']\n",
        "pessoas.append(nomes)\n",
        "pessoas.append(sobrenomes)\n",
        "lugares = []\n",
        "estados = ['sao paulo', 'rio de janeiro', 'sergipe', 'fortaleza']\n",
        "capitais = ['sao paulo', 'rio de janeiro', 'aracaju', 'ceara']\n",
        "lugares.append(estados)\n",
        "lugares.append(capitais)\n",
        "conjunto = []\n",
        "conjunto.append(pessoas)\n",
        "conjunto.append(lugares)\n",
        "print(conjunto[0][1][0])"
      ],
      "metadata": {
        "colab": {
          "base_uri": "https://localhost:8080/"
        },
        "id": "v-x-sKWtVvQW",
        "outputId": "cbdec616-6f6c-4973-d3fc-22425a8d04a5"
      },
      "execution_count": null,
      "outputs": [
        {
          "output_type": "stream",
          "name": "stdout",
          "text": [
            "hyuuga\n"
          ]
        }
      ]
    },
    {
      "cell_type": "code",
      "source": [
        "# exercicio 1\n",
        "vetor1 = ['bom dia', 'boa tarde', 'boa noite']\n",
        "vetor2 = ['bruno', 'marceo', 'bernardo']\n",
        "vetor3 = ['como vai?', 'que horas sao?', 'vamor programar?']\n",
        "matriz = [vetor1, vetor2, vetor3]\n",
        "matriz[2].append('de onde voce e')\n",
        "print(matriz[2])"
      ],
      "metadata": {
        "colab": {
          "base_uri": "https://localhost:8080/"
        },
        "id": "BFEZoC9UXuqW",
        "outputId": "502bd7ad-ea08-465a-ff9b-34980b5b67da"
      },
      "execution_count": null,
      "outputs": [
        {
          "output_type": "stream",
          "name": "stdout",
          "text": [
            "['como vai?', 'que horas sao?', 'vamor programar?', 'de onde voce e']\n"
          ]
        }
      ]
    },
    {
      "cell_type": "code",
      "source": [
        "#exercicio 2\n",
        "vetor1 = ['the 100', 'lei e ordem', 'then woolf']\n",
        "vetor2 = ['x-men', 'velozes e furiosos', 'minios']\n",
        "vetor3 = ['adoraveis pavorosos', 'mais do que isso', 'os sete maridos de evelin hugo']\n",
        "matriz = [vetor1, vetor2, vetor3]\n",
        "print(matriz)"
      ],
      "metadata": {
        "colab": {
          "base_uri": "https://localhost:8080/"
        },
        "id": "momit_wkYkhe",
        "outputId": "cbbd2ad9-a918-4c35-da31-48f3adee2bd6"
      },
      "execution_count": null,
      "outputs": [
        {
          "output_type": "stream",
          "name": "stdout",
          "text": [
            "[['the 100', 'lei e ordem', 'then woolf'], ['x-men', 'velozes e furiosos', 'minios'], ['adoraveis pavorosos', 'mais do que isso', 'os sete maridos de evelin hugo']]\n"
          ]
        }
      ]
    }
  ]
}